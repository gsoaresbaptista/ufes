{
 "cells": [
  {
   "cell_type": "markdown",
   "metadata": {},
   "source": [
    "**Processamento Digital de Imagens - 2022/01**<br/>\n",
    "**Engenharia da Computação**<br/>\n",
    "**Aluno:** Gabriel Soares Baptista, 2018102117<br/>\n",
    "\n",
    "### Perguntas"
   ]
  },
  {
   "cell_type": "markdown",
   "metadata": {},
   "source": [
    "**1) Explique o que são pseudocores. Por que às vezes é interessante usá-las?**\n",
    "\n",
    "Pseudocores, ou falsas cores como também são chamadas, trata-se do procedimento de atribuir cores a valores de cinza, utilizando-se determinados critérios. O nome é oriundo do fato que estamos utilizando um procedimento que atribui cores a imagens monocromáticas a patir dos processos associados a imagens de cor verdadeira.\n",
    "\n",
    "O procedimento pode ser utilizado para muitos casos, entretanto, a maior justificativa é baseada no fato de que a visualização e interpretação humana são muito apurada em relação à observação das cores, portanto, um indivíduo é capaz de capturar muito mais detalhes de uma imagem colorida em relação a uma imagem monocromática.\n",
    "\n"
   ]
  },
  {
   "cell_type": "markdown",
   "metadata": {},
   "source": [
    "___"
   ]
  },
  {
   "cell_type": "markdown",
   "metadata": {},
   "source": [
    "**2) Explique o método de Canny.**\n",
    "\n",
    "O método de Canny é um procedimento para detectar bordas através da primeira derivada, mostrando-se competente na tarefa, além do fato de grande parte dos métodos detectores de bordas utilizarem a segunda derivada o que amplifica o ruído. Portanto, o operador de Canny trata-se de um operador gaussiano de primeira ordem, sendo utilizado para suavizar os ruídos e localizar as bordas.\n",
    "\n",
    "Primeiro, concentra-se em bordas ideiais, onde a representação pode ser feita em apenas uma dimensão. Embora não seja uma modelagem exata, garante-se uma boa aproximação dos efeitos causados pelos ruídos.\n",
    "\n",
    "$$G(x) = \\frac{1}{\\sqrt{2\\pi}\\sigma} e^{\\frac{-x^2}{2\\sigma^2}} $$\n",
    "\n",
    "Derivando-se obtem para a primeira e segunda derivada, respectivamente:\n",
    "\n",
    "$$G'(x) = \\frac{-x}{\\sqrt{2\\pi}\\sigma^3} e^{\\frac{-x^2}{2\\sigma^2}} $$\n",
    "\n",
    "$$G\"(x) = \\frac{-1}{\\sqrt{2\\pi}\\sigma^3} e^{\\frac{-x^2}{2\\sigma^2}} [1 - \\frac{x^2}{\\sigma^2}] $$\n",
    "\n",
    "Para as funções bidimensionais, podemos utilizar coordenadas polares, isto é, $r=\\sqrt{x^2+y^2}$ para representar a distância radial da origem ao popnto. Portanto, obtemos:\n",
    "\n",
    "$$G(x) = \\frac{1}{2\\pi \\sigma^2} e^{\\frac{-r^2}{2\\sigma^2}} $$\n",
    "\n",
    "$$G'(x) = \\frac{-r}{2\\pi \\sigma^4} e^{\\frac{-r^2}{2\\sigma^2}} $$\n",
    "\n",
    "$$G\"(x) = \\frac{-1}{2\\pi \\sigma^4} e^{\\frac{-r^2}{2\\sigma^2}} [1 - \\frac{r^2}{\\sigma^2}] $$\n",
    "\n",
    "\n",
    "Uma vez que a primeira derivada da imagem convolucionada da função gaussianica é equivalente a imagem convolucionada da primeira derivada da função de Gauss, podemos combinar os estágios para efetuar tanto a detecção de bordas e a suavização em apenas uma convolução.\n",
    "\n",
    "Portanto, estamos interessados em atender os seguintes critérios, apresentar uma boa detecção de bordas, minimizar a distância entre a borda detectada e a verdadeira borda e apresentar apenas um resultado para cada borda.\n",
    "\n",
    "O procedimento pode ser separado em 4 estágios distintos.\n",
    "\n",
    "**Primeiro estágio:** Uniformizar a imagem através da função gaussianica 2d. Uma vez que o procedimento de convolução para tamanhos elevados pode ser custoso computacionalmente, é comum aproximar o resultado bidimensional através de duas funções unidimensionais.\n",
    "\n",
    "**Segundo estágio:** Diferenciar a imagem, obtendo-se o gradiente da superfície uniforme da imagem convolucionada.\n",
    "\n",
    "**Terceiro estágio:** Omitir os pontos de mínima intensidade. A ideia é deixar apenas as bordas da imagem (pontos de máxima intensidade) através da omissão do restante (pontos de mínima intensidade).\n",
    "Os pontos de máxima intensidade ocorrem nos locais mais altos da função gradiente ou onde a derivada da função gradiente possúi valor nulo.\n",
    "\n",
    "Podemos aproximar o processo através da diferenciação perpendicular para cada borda. Os pixels em volta correspondem ao centro de um novo pixel na vizinhança, interpolando-se os valores dos pixels ao redor, podemos calcular as magnitudes dos gradientes pelos limites das fronteiras vizinhas em ambas direções perpendiculares do pixel central.\n",
    "\n",
    "**Quarto estágio:** Limiarizar as bordas, utiliza-se o método histerese, isto é, considera-se um segmento de borda e para todo valor situado acima do limite superior de limiarização, aceita-se imediatamente, para valores abaixo do limite inferior de limiarização rejeita-se imediatamente e para pontos situados entre os limites serão aceitos caso estejam relacionados com o pixel que apresentem respostas fortes."
   ]
  },
  {
   "cell_type": "markdown",
   "metadata": {},
   "source": [
    "___"
   ]
  },
  {
   "cell_type": "markdown",
   "metadata": {},
   "source": [
    "**3) Tente definir com as suas palavras o que é textura em uma imagem. Por que elas são importantes na tarefa de segmentação de imagens?**\n",
    "\n",
    "Uma textura é um padrão que tende a se repetir na imagem, usualmente está associada a medidas de propriedades do material do objeto presente na imagem, tais como, suavidade, rugosidade e regularidade. Entretanto, pode-se pensar na textura como o descritor do conjunto de características que descrevam um agrupamento de pixels locais. Em resumo, uma textura é o conjunto de características que são capazes de descrever uma região contida em uma imagem, definindo a relação que um pixel possui com a sua adjacência.\n",
    "\n",
    "As texturas se fazem importante no momento que agregam informação para procedimentos de níveis superiores, nos permitindo utilizar suas características para descrever diferentes regiões e, consequentemente, nos permitindo segmentá-las através desses critérios. Portanto, uma vez que a textura constitui um dos principais atributos visuais presentes na imagem, conseguimos utilizar procedimentos bem mais complexos do que apenas a segmentação baseada em cores, por exemplo."
   ]
  },
  {
   "cell_type": "markdown",
   "metadata": {},
   "source": []
  }
 ],
 "metadata": {
  "kernelspec": {
   "display_name": "Python 3.10.6 ('pdi')",
   "language": "python",
   "name": "python3"
  },
  "language_info": {
   "name": "python",
   "version": "3.10.6"
  },
  "orig_nbformat": 4,
  "vscode": {
   "interpreter": {
    "hash": "5f0819b06e4f82ce024994cc77e0ff13fc0c1812d573642c45564db6431b9d05"
   }
  }
 },
 "nbformat": 4,
 "nbformat_minor": 2
}
