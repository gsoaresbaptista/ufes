{
 "cells": [
  {
   "cell_type": "markdown",
   "metadata": {},
   "source": [
    "**Processamento Digital de Imagens - 2022/01**<br/>\n",
    "**Engenharia da Computação**<br/>\n",
    "**Aluno:** Gabriel Soares Baptista, 2018102117<br/>\n",
    "\n",
    "### Pergunta Discursiva\n",
    "\n",
    "**1) Explique o que é o efeito de ringing, como ele acontece e como é possível\n",
    "reduzir a sua presença.**"
   ]
  },
  {
   "cell_type": "markdown",
   "metadata": {},
   "source": [
    "Em processamento digital de imagens, ringing é um tipo de artefato que aparece em torna das áreas de transições, aparentando uma especie de ondulação em formato de anel, também pode ser referido na bibliografia como falsas bordas ou até mesmo efeito fantasma. Esse artefato é muito comum quando lidamos com filtros no domínio da frequência, principalmente quando estamos utilizando filtros ideais ou outros filtros com descontinuidades. Em processamento de áudio o ringing pode aparecer no formato de ecos.\n",
    "\n",
    "Esse efeito ocorre devido as descontinuidades do filtro no domínio da frequência, uma vez que a transformada de Fourier de uma função retângular é a função sinc com componentes de frequência se estendendo ao infinito, a transformada inversa de uma função retangular terá o mesmo comportamento, portanto, o ringing é causado por variações abruptas de valor na frequencia.\n",
    "\n",
    "Podemos resulver o problema utilizando-se filtros com variações mais suaves em torno das frequências de corte, como o filtro Gaussiano ou de Butterworth em vez do filtro passa-baixa ideal. Entretanto, o que tiramos disso é que devido a limitação de não sermos capazes de utilizar um número infinito de componentes, não podemos utilizar filtros ideiais no domínio da frequência e simultaneamente utilizar o preenchimento com zeros para evitar o efeito de wraparound. Uma abordagem mais simples consiste em preencher a imagem com zeros e criar filtros no domínio da frequência para serem do mesmo tamanho da imagem, ainda que essa abordagem irá inevitavelmente resultar em wraparound porque nenhum preenchimento é utilizado para o filtro, na prática, o erro é significativamente reduzido pela separação proporcionada pelo preenchimento da imagem ainda degrada menos a imagem quando comparado ao ringing."
   ]
  },
  {
   "cell_type": "markdown",
   "metadata": {},
   "source": []
  }
 ],
 "metadata": {
  "language_info": {
   "name": "python"
  },
  "orig_nbformat": 4
 },
 "nbformat": 4,
 "nbformat_minor": 2
}
