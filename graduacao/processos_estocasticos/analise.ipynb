{
 "cells": [
  {
   "cell_type": "code",
   "execution_count": 23,
   "metadata": {},
   "outputs": [],
   "source": [
    "import pandas as pd\n",
    "import seaborn as sns\n",
    "import matplotlib.pyplot as plt\n",
    "import numpy as np\n",
    "from src.tennis import TenisSimulation"
   ]
  },
  {
   "cell_type": "markdown",
   "metadata": {},
   "source": [
    "# Aplicação de Cadeias de Markov na Simulação de um Jogo de Tênis\n",
    "\n",
    "O trabalho em questão consistem na simulação de uma partida de tênis utilizando cadeias de Markov para simular o processo estocástico inerente ao jogo.\n",
    "\n",
    "A chance de um jogador sair vitorioso de uma partida de tênis está diretamente relacionado com a sua habilidade no esporte. Portanto, sintetizamos as aptidões e habilidades de um jogador através de uma representação numérica(p) que varia no intervalo [0, 1], sendo 0 uma baixa aptidão e 1 um jogador extremamente habilidoso. Neste ponto, p representa a probabilidade do jogador ganhar o ponto, isto é, se o jogador A possúi uma probabilidade p de marcar o ponto, o jogador B deve possuir um valor de habilidade de q = 1 - p.\n"
   ]
  },
  {
   "cell_type": "markdown",
   "metadata": {},
   "source": [
    "## Representação da cadeia de Markov\n",
    "\n",
    "A representação de um game dentro de um set foi elaborada utilizando a cadeia logo abaixo. Note que, diferente da cadeia proposta originalmente a implementalção apresenta os estados \"30-30\", \"30-40\" e \"40-30\" a mais, buscando-se uma representação mais fiel do game."
   ]
  },
  {
   "cell_type": "markdown",
   "metadata": {},
   "source": [
    "<img src=\"imgs/chain.jpeg\" width=500>\n",
    "<p>\n",
    "Imagem retirada da internet, <a href=\"https://twitter.com/Vestige_du_jour/status/1052322461688061952\">referência</a>.\n",
    "</p>"
   ]
  },
  {
   "cell_type": "markdown",
   "metadata": {},
   "source": [
    "## Partida 1\n",
    "\n",
    "A primeira simulação leva em conta um jogador A muito mais habilidoso do que o adversário B. Isto é, utiliza-se um valor de p relativamente maior do que q. A proposta do trabalho consiste na escolha de p dentro do seguinte intervalo, 0,70 <= p <= 0,80, portanto, escolheu-se um valor intermediário de p = 0.75."
   ]
  },
  {
   "cell_type": "code",
   "execution_count": 24,
   "metadata": {},
   "outputs": [
    {
     "name": "stderr",
     "output_type": "stream",
     "text": [
      "100%|██████████| 10000/10000 [00:02<00:00, 4396.80it/s]\n"
     ]
    }
   ],
   "source": [
    "# Gera os dados da simulação\n",
    "n_sample = 10000\n",
    "probability = 0.75\n",
    "\n",
    "tennis_df = TenisSimulation.generate_dataset(probability, n_sample)\n",
    "tennis_df.to_parquet(f'datasets/{n_sample}_probability_{probability}.parquet.gzip')"
   ]
  },
  {
   "cell_type": "markdown",
   "metadata": {},
   "source": [
    "O dataset gerado consiste em um DataFrame com n_sample simulações. Para cada simulação, salva-se os dados da quantidade de pontos, sets ganhos e games ganhos por cada jogador além da quantidade de deuces e o vencedor da partida. O dataset pode ser visto logo abaixo:"
   ]
  },
  {
   "cell_type": "code",
   "execution_count": 25,
   "metadata": {},
   "outputs": [
    {
     "data": {
      "text/html": [
       "<div>\n",
       "<style scoped>\n",
       "    .dataframe tbody tr th:only-of-type {\n",
       "        vertical-align: middle;\n",
       "    }\n",
       "\n",
       "    .dataframe tbody tr th {\n",
       "        vertical-align: top;\n",
       "    }\n",
       "\n",
       "    .dataframe thead th {\n",
       "        text-align: right;\n",
       "    }\n",
       "</style>\n",
       "<table border=\"1\" class=\"dataframe\">\n",
       "  <thead>\n",
       "    <tr style=\"text-align: right;\">\n",
       "      <th></th>\n",
       "      <th>A scored</th>\n",
       "      <th>B scored</th>\n",
       "      <th>sets A-Wins</th>\n",
       "      <th>sets B-Wins</th>\n",
       "      <th>games A-Wins</th>\n",
       "      <th>games B-Wins</th>\n",
       "      <th>deuce</th>\n",
       "      <th>Winner</th>\n",
       "    </tr>\n",
       "  </thead>\n",
       "  <tbody>\n",
       "    <tr>\n",
       "      <th>0</th>\n",
       "      <td>49</td>\n",
       "      <td>13</td>\n",
       "      <td>2</td>\n",
       "      <td>0</td>\n",
       "      <td>12</td>\n",
       "      <td>0</td>\n",
       "      <td>1</td>\n",
       "      <td>A</td>\n",
       "    </tr>\n",
       "    <tr>\n",
       "      <th>1</th>\n",
       "      <td>50</td>\n",
       "      <td>19</td>\n",
       "      <td>2</td>\n",
       "      <td>0</td>\n",
       "      <td>12</td>\n",
       "      <td>0</td>\n",
       "      <td>2</td>\n",
       "      <td>A</td>\n",
       "    </tr>\n",
       "    <tr>\n",
       "      <th>2</th>\n",
       "      <td>48</td>\n",
       "      <td>11</td>\n",
       "      <td>2</td>\n",
       "      <td>0</td>\n",
       "      <td>12</td>\n",
       "      <td>0</td>\n",
       "      <td>0</td>\n",
       "      <td>A</td>\n",
       "    </tr>\n",
       "    <tr>\n",
       "      <th>3</th>\n",
       "      <td>49</td>\n",
       "      <td>11</td>\n",
       "      <td>2</td>\n",
       "      <td>0</td>\n",
       "      <td>12</td>\n",
       "      <td>0</td>\n",
       "      <td>1</td>\n",
       "      <td>A</td>\n",
       "    </tr>\n",
       "    <tr>\n",
       "      <th>4</th>\n",
       "      <td>51</td>\n",
       "      <td>14</td>\n",
       "      <td>2</td>\n",
       "      <td>0</td>\n",
       "      <td>12</td>\n",
       "      <td>0</td>\n",
       "      <td>3</td>\n",
       "      <td>A</td>\n",
       "    </tr>\n",
       "    <tr>\n",
       "      <th>...</th>\n",
       "      <td>...</td>\n",
       "      <td>...</td>\n",
       "      <td>...</td>\n",
       "      <td>...</td>\n",
       "      <td>...</td>\n",
       "      <td>...</td>\n",
       "      <td>...</td>\n",
       "      <td>...</td>\n",
       "    </tr>\n",
       "    <tr>\n",
       "      <th>9995</th>\n",
       "      <td>54</td>\n",
       "      <td>20</td>\n",
       "      <td>2</td>\n",
       "      <td>0</td>\n",
       "      <td>12</td>\n",
       "      <td>1</td>\n",
       "      <td>4</td>\n",
       "      <td>A</td>\n",
       "    </tr>\n",
       "    <tr>\n",
       "      <th>9996</th>\n",
       "      <td>59</td>\n",
       "      <td>32</td>\n",
       "      <td>2</td>\n",
       "      <td>0</td>\n",
       "      <td>12</td>\n",
       "      <td>3</td>\n",
       "      <td>5</td>\n",
       "      <td>A</td>\n",
       "    </tr>\n",
       "    <tr>\n",
       "      <th>9997</th>\n",
       "      <td>49</td>\n",
       "      <td>10</td>\n",
       "      <td>2</td>\n",
       "      <td>0</td>\n",
       "      <td>12</td>\n",
       "      <td>0</td>\n",
       "      <td>1</td>\n",
       "      <td>A</td>\n",
       "    </tr>\n",
       "    <tr>\n",
       "      <th>9998</th>\n",
       "      <td>48</td>\n",
       "      <td>7</td>\n",
       "      <td>2</td>\n",
       "      <td>0</td>\n",
       "      <td>12</td>\n",
       "      <td>0</td>\n",
       "      <td>0</td>\n",
       "      <td>A</td>\n",
       "    </tr>\n",
       "    <tr>\n",
       "      <th>9999</th>\n",
       "      <td>56</td>\n",
       "      <td>23</td>\n",
       "      <td>2</td>\n",
       "      <td>0</td>\n",
       "      <td>12</td>\n",
       "      <td>1</td>\n",
       "      <td>6</td>\n",
       "      <td>A</td>\n",
       "    </tr>\n",
       "  </tbody>\n",
       "</table>\n",
       "<p>10000 rows × 8 columns</p>\n",
       "</div>"
      ],
      "text/plain": [
       "      A scored  B scored  sets A-Wins  sets B-Wins  games A-Wins  \\\n",
       "0           49        13            2            0            12   \n",
       "1           50        19            2            0            12   \n",
       "2           48        11            2            0            12   \n",
       "3           49        11            2            0            12   \n",
       "4           51        14            2            0            12   \n",
       "...        ...       ...          ...          ...           ...   \n",
       "9995        54        20            2            0            12   \n",
       "9996        59        32            2            0            12   \n",
       "9997        49        10            2            0            12   \n",
       "9998        48         7            2            0            12   \n",
       "9999        56        23            2            0            12   \n",
       "\n",
       "      games B-Wins  deuce Winner  \n",
       "0                0      1      A  \n",
       "1                0      2      A  \n",
       "2                0      0      A  \n",
       "3                0      1      A  \n",
       "4                0      3      A  \n",
       "...            ...    ...    ...  \n",
       "9995             1      4      A  \n",
       "9996             3      5      A  \n",
       "9997             0      1      A  \n",
       "9998             0      0      A  \n",
       "9999             1      6      A  \n",
       "\n",
       "[10000 rows x 8 columns]"
      ]
     },
     "execution_count": 25,
     "metadata": {},
     "output_type": "execute_result"
    }
   ],
   "source": [
    "tennis_df"
   ]
  },
  {
   "cell_type": "markdown",
   "metadata": {},
   "source": [
    "Como a probabilidade p esta diretamente ligada com a chance do jogador A marcar um ponto, é de nosso interesse observar o gráfico de distribuição de probabilidade para os pontos marcados durante os jogos. Portanto, o gráfico abaixo mostra tanto a distribuição de A quanto de B."
   ]
  },
  {
   "cell_type": "code",
   "execution_count": 26,
   "metadata": {},
   "outputs": [
    {
     "data": {
      "image/png": "[encoded data removed]",
      "text/plain": [
       "<Figure size 576x432 with 1 Axes>"
      ]
     },
     "metadata": {},
     "output_type": "display_data"
    }
   ],
   "source": [
    "sns.set_theme()\n",
    "fig, ax = plt.subplots(1, figsize=(8, 6))\n",
    "sns.histplot(data=tennis_df.loc[:, ['A scored', 'B scored']], ax=ax);"
   ]
  },
  {
   "cell_type": "markdown",
   "metadata": {},
   "source": [
    "Nota-se que os pontos marcados por A foram muito mais elavados, como era de se esperar devido ao alto valor de p. É interessante observamos que a distribuição de B se assemelha muito com uma distribuição normal, entretanto, por apresentar uma baixa média de pontos marcados esta deslocada para esquerda em relação à A, logo, podemos imaginar que distribuição de A também se trata de uma normal com um alto valor de curtose."
   ]
  },
  {
   "cell_type": "markdown",
   "metadata": {},
   "source": [
    "Iremos calcular alguns valores estatísticos para critério de comparação e inferência da simulação executada. Portanto, fazemos a análise utilizando 3 jogos como conjunto amostral, isto é, dividimos o dataset em grupos de 3 e para cada grupo inferimos os dados."
   ]
  },
  {
   "cell_type": "code",
   "execution_count": 27,
   "metadata": {},
   "outputs": [],
   "source": [
    "tennis_va3_dict = { \n",
    "    'A': { 'matches' : [], 'scored' : [], 'games' : [], 'sets' : []},\n",
    "    'B': { 'matches' : [], 'scored' : [], 'games' : [], 'sets' : []},\n",
    "}\n",
    "\n",
    "for i in range(0, n_sample//3):\n",
    "    tennis_va3_dict['A']['matches'].append(sum(tennis_df.iloc[i*3:i*3+3, :]['Winner'] == 'A'))\n",
    "    tennis_va3_dict['B']['matches'].append(sum(tennis_df.iloc[i*3:i*3+3, :]['Winner'] == 'B'))\n",
    "\n",
    "    tennis_va3_dict['A']['scored'].append(sum(tennis_df.loc[i*3:i*3+2, 'A scored']))\n",
    "    tennis_va3_dict['B']['scored'].append(sum(tennis_df.loc[i*3:i*3+2, 'B scored']))\n",
    "\n",
    "    tennis_va3_dict['A']['games'].append(sum(tennis_df.loc[i*3:i*3+2, 'games A-Wins']))\n",
    "    tennis_va3_dict['B']['games'].append(sum(tennis_df.loc[i*3:i*3+2, 'games B-Wins']))\n",
    "\n",
    "    tennis_va3_dict['A']['sets'].append(sum(tennis_df.loc[i*3:i*3+2, 'sets A-Wins']))\n",
    "    tennis_va3_dict['B']['sets'].append(sum(tennis_df.loc[i*3:i*3+2, 'sets B-Wins']))"
   ]
  },
  {
   "cell_type": "code",
   "execution_count": 28,
   "metadata": {},
   "outputs": [],
   "source": [
    "tennis_va3_df = {\n",
    "    'A': {\n",
    "        'matches': pd.DataFrame(tennis_va3_dict['A']['matches']),\n",
    "        'scored': pd.DataFrame(tennis_va3_dict['A']['scored']),\n",
    "        'games': pd.DataFrame(tennis_va3_dict['A']['games']),\n",
    "        'sets': pd.DataFrame(tennis_va3_dict['A']['sets'])\n",
    "    },\n",
    "    'B': {\n",
    "        'matches': pd.DataFrame(tennis_va3_dict['B']['matches']),\n",
    "        'scored': pd.DataFrame(tennis_va3_dict['B']['scored']),\n",
    "        'games': pd.DataFrame(tennis_va3_dict['B']['games']),\n",
    "        'sets': pd.DataFrame(tennis_va3_dict['B']['sets'])\n",
    "    }}"
   ]
  },
  {
   "cell_type": "code",
   "execution_count": 29,
   "metadata": {},
   "outputs": [
    {
     "data": {
      "text/html": [
       "<div>\n",
       "<style scoped>\n",
       "    .dataframe tbody tr th:only-of-type {\n",
       "        vertical-align: middle;\n",
       "    }\n",
       "\n",
       "    .dataframe tbody tr th {\n",
       "        vertical-align: top;\n",
       "    }\n",
       "\n",
       "    .dataframe thead th {\n",
       "        text-align: right;\n",
       "    }\n",
       "</style>\n",
       "<table border=\"1\" class=\"dataframe\">\n",
       "  <thead>\n",
       "    <tr style=\"text-align: right;\">\n",
       "      <th></th>\n",
       "      <th>matches_mean</th>\n",
       "      <th>scored_mean</th>\n",
       "      <th>games_mean</th>\n",
       "      <th>sets_mean</th>\n",
       "    </tr>\n",
       "  </thead>\n",
       "  <tbody>\n",
       "    <tr>\n",
       "      <th>A</th>\n",
       "      <td>3.0</td>\n",
       "      <td>155.211221</td>\n",
       "      <td>36.000600</td>\n",
       "      <td>6.0</td>\n",
       "    </tr>\n",
       "    <tr>\n",
       "      <th>B</th>\n",
       "      <td>0.0</td>\n",
       "      <td>52.074407</td>\n",
       "      <td>1.955296</td>\n",
       "      <td>0.0</td>\n",
       "    </tr>\n",
       "  </tbody>\n",
       "</table>\n",
       "</div>"
      ],
      "text/plain": [
       "   matches_mean  scored_mean  games_mean  sets_mean\n",
       "A           3.0   155.211221   36.000600        6.0\n",
       "B           0.0    52.074407    1.955296        0.0"
      ]
     },
     "metadata": {},
     "output_type": "display_data"
    },
    {
     "data": {
      "text/html": [
       "<div>\n",
       "<style scoped>\n",
       "    .dataframe tbody tr th:only-of-type {\n",
       "        vertical-align: middle;\n",
       "    }\n",
       "\n",
       "    .dataframe tbody tr th {\n",
       "        vertical-align: top;\n",
       "    }\n",
       "\n",
       "    .dataframe thead th {\n",
       "        text-align: right;\n",
       "    }\n",
       "</style>\n",
       "<table border=\"1\" class=\"dataframe\">\n",
       "  <thead>\n",
       "    <tr style=\"text-align: right;\">\n",
       "      <th></th>\n",
       "      <th>matches_std</th>\n",
       "      <th>scored_std</th>\n",
       "      <th>games_std</th>\n",
       "      <th>sets_std</th>\n",
       "    </tr>\n",
       "  </thead>\n",
       "  <tbody>\n",
       "    <tr>\n",
       "      <th>A</th>\n",
       "      <td>0.0</td>\n",
       "      <td>5.074462</td>\n",
       "      <td>0.024489</td>\n",
       "      <td>0.0</td>\n",
       "    </tr>\n",
       "    <tr>\n",
       "      <th>B</th>\n",
       "      <td>0.0</td>\n",
       "      <td>9.516634</td>\n",
       "      <td>1.424607</td>\n",
       "      <td>0.0</td>\n",
       "    </tr>\n",
       "  </tbody>\n",
       "</table>\n",
       "</div>"
      ],
      "text/plain": [
       "   matches_std  scored_std  games_std  sets_std\n",
       "A          0.0    5.074462   0.024489       0.0\n",
       "B          0.0    9.516634   1.424607       0.0"
      ]
     },
     "metadata": {},
     "output_type": "display_data"
    }
   ],
   "source": [
    "# Média\n",
    "tennis_va3_mean = {\n",
    "    'A': [np.mean(i) for i in tennis_va3_dict['A'].values()],\n",
    "    'B': [np.mean(i) for i in tennis_va3_dict['B'].values()]\n",
    "}\n",
    "\n",
    "tennis_va3_mean = pd.DataFrame(tennis_va3_mean).transpose()\n",
    "tennis_va3_mean.columns = ['matches_mean', 'scored_mean', 'games_mean', 'sets_mean']\n",
    "display(tennis_va3_mean)\n",
    "\n",
    "# Desvio padrão\n",
    "tennis_va3_std = {\n",
    "    'A': [np.std(i) for i in tennis_va3_dict['A'].values()],\n",
    "    'B': [np.std(i) for i in tennis_va3_dict['B'].values()]\n",
    "}\n",
    "\n",
    "tennis_va3_std = pd.DataFrame(tennis_va3_std).transpose()\n",
    "tennis_va3_std.columns = ['matches_std', 'scored_std', 'games_std', 'sets_std']\n",
    "display(tennis_va3_std)"
   ]
  },
  {
   "cell_type": "markdown",
   "metadata": {},
   "source": [
    "Observa-se que o jogador A ganhou em média as 3 partidas do grupo, como era esperado devido ao alto valor de p, consequentemente, A marcou em média muito mais pontos o que levou a mais games ganhos do que B.\n",
    "\n",
    "Os desvios padrões nos mostram que os valores foram bem consistentes, existiram games em que saiu B vitorioso, entretanto, como foram outliers dentro do conjunto de dados nem mesmo afetaram o resultado final da média."
   ]
  },
  {
   "cell_type": "markdown",
   "metadata": {},
   "source": [
    "A média acumulada consiste no cálculo da média expandindo o grupo, logo, é uma medida interessante para analisar a convergência da média em relação ao tamanho da amostra utilizada."
   ]
  },
  {
   "cell_type": "code",
   "execution_count": 30,
   "metadata": {},
   "outputs": [
    {
     "data": {
      "image/png": "[encoded data removed]",
      "text/plain": [
       "<Figure size 1080x360 with 2 Axes>"
      ]
     },
     "metadata": {},
     "output_type": "display_data"
    }
   ],
   "source": [
    "# Gráfico da média acumulada\n",
    "fig, ax = plt.subplots(1, 2, figsize=(15, 5))\n",
    "ax[0].set_title('A winner cumulative mean')\n",
    "sns.lineplot(data=tennis_va3_df['A']['matches'].expanding().mean().iloc[:, 0], ax=ax[0]);\n",
    "\n",
    "ax[1].set_title('B winner cumulative mean')\n",
    "sns.lineplot(data=tennis_va3_df['B']['matches'].expanding().mean().iloc[:, 0], ax=ax[1], color='#9C7ABA');"
   ]
  },
  {
   "cell_type": "markdown",
   "metadata": {},
   "source": [
    "Vemos que a média acumulada permaneceu constante durante todo período o que sinifica que os dados são muito estáveis e possuem baixa variação, mesmo aumentando o conjunto de dados os valores de média para os jogos ganhos não se alteram."
   ]
  },
  {
   "cell_type": "markdown",
   "metadata": {},
   "source": [
    "Uma forma de analisar a dispersão dos dados é através do boxplot, sendo um gráfico capaz de sintetizar um grande conjunto de informações quanto a distribuição dos dados. Portanto, geramos o boxplot para alguns dados interessantes."
   ]
  },
  {
   "cell_type": "code",
   "execution_count": 58,
   "metadata": {},
   "outputs": [
    {
     "data": {
      "image/png": "[encoded data removed]",
      "text/plain": [
       "<Figure size 1080x360 with 2 Axes>"
      ]
     },
     "metadata": {},
     "output_type": "display_data"
    },
    {
     "data": {
      "image/png": "[encoded data removed]",
      "text/plain": [
       "<Figure size 1080x360 with 2 Axes>"
      ]
     },
     "metadata": {},
     "output_type": "display_data"
    }
   ],
   "source": [
    "fig, ax = plt.subplots(1, 2, figsize=(15, 5))\n",
    "sns.boxplot(x=tennis_va3_df['A']['scored'][0], ax=ax[0]);\n",
    "ax[0].set_xlabel('A scored')\n",
    "sns.boxplot(x=tennis_va3_df['B']['scored'][0], ax=ax[1]);\n",
    "ax[1].set_xlabel('B scored')\n",
    "\n",
    "fig, ax = plt.subplots(1, 2, figsize=(15, 5))\n",
    "sns.boxplot(x=tennis_va3_df['A']['games'][0], ax=ax[0]);\n",
    "ax[0].set_xlabel('games A-wins')\n",
    "sns.boxplot(x=tennis_va3_df['B']['games'][0], ax=ax[1]);\n",
    "ax[1].set_xlabel('games B-wins');"
   ]
  },
  {
   "cell_type": "markdown",
   "metadata": {},
   "source": [
    "Observamos que a quantidade de pontos marcados por A e B apresentam sim um valor de dispersão, ainda que baixo, essa afirmação se dá pelo fato do quartil inferior ser próximo do quartil superior, isto é, ambos gráficos possuem uma baixa amplitude interquartílica.\n",
    "\n",
    "Enquanto para os games, vemos que A ganhou consistentemente, como era de se esperar pelos dados supracitados. Nota-se também que B realmente ganhou alguns poucos games."
   ]
  },
  {
   "cell_type": "code",
   "execution_count": 32,
   "metadata": {},
   "outputs": [
    {
     "data": {
      "text/html": [
       "<div>\n",
       "<style scoped>\n",
       "    .dataframe tbody tr th:only-of-type {\n",
       "        vertical-align: middle;\n",
       "    }\n",
       "\n",
       "    .dataframe tbody tr th {\n",
       "        vertical-align: top;\n",
       "    }\n",
       "\n",
       "    .dataframe thead th {\n",
       "        text-align: right;\n",
       "    }\n",
       "</style>\n",
       "<table border=\"1\" class=\"dataframe\">\n",
       "  <thead>\n",
       "    <tr style=\"text-align: right;\">\n",
       "      <th></th>\n",
       "      <th>scored</th>\n",
       "      <th>games</th>\n",
       "      <th>sets</th>\n",
       "      <th>matches</th>\n",
       "    </tr>\n",
       "  </thead>\n",
       "  <tbody>\n",
       "    <tr>\n",
       "      <th>A</th>\n",
       "      <td>0.748779</td>\n",
       "      <td>0.948485</td>\n",
       "      <td>1.0</td>\n",
       "      <td>1.0</td>\n",
       "    </tr>\n",
       "    <tr>\n",
       "      <th>B</th>\n",
       "      <td>0.251221</td>\n",
       "      <td>0.051515</td>\n",
       "      <td>0.0</td>\n",
       "      <td>0.0</td>\n",
       "    </tr>\n",
       "  </tbody>\n",
       "</table>\n",
       "</div>"
      ],
      "text/plain": [
       "     scored     games  sets  matches\n",
       "A  0.748779  0.948485   1.0      1.0\n",
       "B  0.251221  0.051515   0.0      0.0"
      ]
     },
     "execution_count": 32,
     "metadata": {},
     "output_type": "execute_result"
    }
   ],
   "source": [
    "def percentage(data_a: pd.DataFrame, data_b: pd.DataFrame):\n",
    "    data_a = data_a.sum()\n",
    "    data_b = data_b.sum()\n",
    "    return (data_a) / (data_a + data_b)\n",
    "\n",
    "percentages = {}\n",
    "\n",
    "percentages['scored'] = {\n",
    "    'A': percentage(tennis_va3_df['A']['scored'][0], tennis_va3_df['B']['scored'][0]),\n",
    "    'B': percentage(tennis_va3_df['B']['scored'][0], tennis_va3_df['A']['scored'][0])\n",
    "}\n",
    "percentages['games'] = {\n",
    "    'A': percentage(tennis_va3_df['A']['games'][0], tennis_va3_df['B']['games'][0]),\n",
    "    'B': percentage(tennis_va3_df['B']['games'][0], tennis_va3_df['A']['games'][0])\n",
    "}\n",
    "percentages['sets'] = {\n",
    "    'A': percentage(tennis_va3_df['A']['sets'][0], tennis_va3_df['B']['sets'][0]),\n",
    "    'B': percentage(tennis_va3_df['B']['sets'][0], tennis_va3_df['A']['sets'][0])\n",
    "}\n",
    "percentages['matches'] = {\n",
    "    'A': percentage(tennis_va3_df['A']['matches'][0], tennis_va3_df['B']['matches'][0]),\n",
    "    'B': percentage(tennis_va3_df['B']['matches'][0], tennis_va3_df['A']['matches'][0])\n",
    "}\n",
    "\n",
    "percentages_df = pd.DataFrame(percentages)\n",
    "percentages_df"
   ]
  },
  {
   "cell_type": "markdown",
   "metadata": {},
   "source": [
    "Sintetizamos os resultados pela porcentagem de cada jogador dentre as etapas de uma partida de tênis. Observamos que A possúi uma larga vantagem em B, represetando que a simulação foi consistente em todas as etapas."
   ]
  },
  {
   "cell_type": "markdown",
   "metadata": {},
   "source": [
    "### VA com espaço amostral de 10 partidas"
   ]
  },
  {
   "cell_type": "markdown",
   "metadata": {},
   "source": [
    "Os testes anteriores foram refeitos considerando uma variável aleatória com um espaço amostral de 10 partidas. Portanto, sorteamos tantos conjuntos de 10 partidas quanto possível, utilizando dados aleatórios com distribuição uniforme no sorteamento."
   ]
  },
  {
   "cell_type": "code",
   "execution_count": 33,
   "metadata": {},
   "outputs": [],
   "source": [
    "tennis_va10_dict = { \n",
    "    'A': { 'matches' : [], 'scored' : [], 'games' : [], 'sets' : []},\n",
    "    'B': { 'matches' : [], 'scored' : [], 'games' : [], 'sets' : []},\n",
    "}\n",
    "\n",
    "samples = np.random.randint(0, n_sample//10, (n_sample//10, 10))\n",
    "\n",
    "for i in range(0, n_sample//10):\n",
    "    tennis_va10_dict['A']['matches'].append(sum(tennis_df.iloc[samples[i], :]['Winner'] == 'A'))\n",
    "    tennis_va10_dict['B']['matches'].append(sum(tennis_df.iloc[samples[i], :]['Winner'] == 'B'))\n",
    "\n",
    "    tennis_va10_dict['A']['scored'].append(sum(tennis_df.loc[samples[i], 'A scored']))\n",
    "    tennis_va10_dict['B']['scored'].append(sum(tennis_df.loc[samples[i], 'B scored']))\n",
    "\n",
    "    tennis_va10_dict['A']['games'].append(sum(tennis_df.loc[samples[i], 'games A-Wins']))\n",
    "    tennis_va10_dict['B']['games'].append(sum(tennis_df.loc[samples[i], 'games B-Wins']))\n",
    "\n",
    "    tennis_va10_dict['A']['sets'].append(sum(tennis_df.loc[samples[i], 'sets A-Wins']))\n",
    "    tennis_va10_dict['B']['sets'].append(sum(tennis_df.loc[samples[i], 'sets B-Wins']))"
   ]
  },
  {
   "cell_type": "code",
   "execution_count": 34,
   "metadata": {},
   "outputs": [],
   "source": [
    "tennis_va10_df_dict = {\n",
    "    'A': {\n",
    "        'matches': pd.DataFrame(tennis_va10_dict['A']['matches']),\n",
    "        'scored': pd.DataFrame(tennis_va10_dict['A']['scored']),\n",
    "        'games': pd.DataFrame(tennis_va10_dict['A']['games']),\n",
    "        'sets': pd.DataFrame(tennis_va10_dict['A']['sets'])\n",
    "    },\n",
    "    'B': {\n",
    "        'matches': pd.DataFrame(tennis_va10_dict['B']['matches']),\n",
    "        'scored': pd.DataFrame(tennis_va10_dict['B']['scored']),\n",
    "        'games': pd.DataFrame(tennis_va10_dict['B']['games']),\n",
    "        'sets': pd.DataFrame(tennis_va10_dict['B']['sets'])\n",
    "    }}"
   ]
  },
  {
   "cell_type": "code",
   "execution_count": 35,
   "metadata": {},
   "outputs": [
    {
     "data": {
      "text/html": [
       "<div>\n",
       "<style scoped>\n",
       "    .dataframe tbody tr th:only-of-type {\n",
       "        vertical-align: middle;\n",
       "    }\n",
       "\n",
       "    .dataframe tbody tr th {\n",
       "        vertical-align: top;\n",
       "    }\n",
       "\n",
       "    .dataframe thead th {\n",
       "        text-align: right;\n",
       "    }\n",
       "</style>\n",
       "<table border=\"1\" class=\"dataframe\">\n",
       "  <thead>\n",
       "    <tr style=\"text-align: right;\">\n",
       "      <th></th>\n",
       "      <th>matches_mean</th>\n",
       "      <th>scored_mean</th>\n",
       "      <th>games_mean</th>\n",
       "      <th>sets_mean</th>\n",
       "    </tr>\n",
       "  </thead>\n",
       "  <tbody>\n",
       "    <tr>\n",
       "      <th>A</th>\n",
       "      <td>10.0</td>\n",
       "      <td>516.324</td>\n",
       "      <td>120.000</td>\n",
       "      <td>20.0</td>\n",
       "    </tr>\n",
       "    <tr>\n",
       "      <th>B</th>\n",
       "      <td>0.0</td>\n",
       "      <td>171.553</td>\n",
       "      <td>6.152</td>\n",
       "      <td>0.0</td>\n",
       "    </tr>\n",
       "  </tbody>\n",
       "</table>\n",
       "</div>"
      ],
      "text/plain": [
       "   matches_mean  scored_mean  games_mean  sets_mean\n",
       "A          10.0      516.324     120.000       20.0\n",
       "B           0.0      171.553       6.152        0.0"
      ]
     },
     "metadata": {},
     "output_type": "display_data"
    },
    {
     "data": {
      "text/html": [
       "<div>\n",
       "<style scoped>\n",
       "    .dataframe tbody tr th:only-of-type {\n",
       "        vertical-align: middle;\n",
       "    }\n",
       "\n",
       "    .dataframe tbody tr th {\n",
       "        vertical-align: top;\n",
       "    }\n",
       "\n",
       "    .dataframe thead th {\n",
       "        text-align: right;\n",
       "    }\n",
       "</style>\n",
       "<table border=\"1\" class=\"dataframe\">\n",
       "  <thead>\n",
       "    <tr style=\"text-align: right;\">\n",
       "      <th></th>\n",
       "      <th>matches_std</th>\n",
       "      <th>scored_std</th>\n",
       "      <th>games_std</th>\n",
       "      <th>sets_std</th>\n",
       "    </tr>\n",
       "  </thead>\n",
       "  <tbody>\n",
       "    <tr>\n",
       "      <th>A</th>\n",
       "      <td>0.0</td>\n",
       "      <td>9.609736</td>\n",
       "      <td>0.000000</td>\n",
       "      <td>0.0</td>\n",
       "    </tr>\n",
       "    <tr>\n",
       "      <th>B</th>\n",
       "      <td>0.0</td>\n",
       "      <td>18.160925</td>\n",
       "      <td>2.674116</td>\n",
       "      <td>0.0</td>\n",
       "    </tr>\n",
       "  </tbody>\n",
       "</table>\n",
       "</div>"
      ],
      "text/plain": [
       "   matches_std  scored_std  games_std  sets_std\n",
       "A          0.0    9.609736   0.000000       0.0\n",
       "B          0.0   18.160925   2.674116       0.0"
      ]
     },
     "metadata": {},
     "output_type": "display_data"
    }
   ],
   "source": [
    "# Média\n",
    "tennis_va10_mean = {\n",
    "    'A': [np.mean(i) for i in tennis_va10_dict['A'].values()],\n",
    "    'B': [np.mean(i) for i in tennis_va10_dict['B'].values()]\n",
    "}\n",
    "\n",
    "tennis_va10_mean = pd.DataFrame(tennis_va10_mean).transpose()\n",
    "tennis_va10_mean.columns = ['matches_mean', 'scored_mean', 'games_mean', 'sets_mean']\n",
    "display(tennis_va10_mean)\n",
    "\n",
    "# Desvio padrão\n",
    "tennis_va10_std = {\n",
    "    'A': [np.std(i) for i in tennis_va10_dict['A'].values()],\n",
    "    'B': [np.std(i) for i in tennis_va10_dict['B'].values()]\n",
    "}\n",
    "\n",
    "tennis_va10_std = pd.DataFrame(tennis_va10_std).transpose()\n",
    "tennis_va10_std.columns = ['matches_std', 'scored_std', 'games_std', 'sets_std']\n",
    "display(tennis_va10_std)"
   ]
  },
  {
   "cell_type": "markdown",
   "metadata": {},
   "source": [
    "Da média e do desvio padrão, vemos que o número de matches foi constante, isto é, A continuou ganhando consistemente de B. Embora a quantidade de pontos que B marcou durante as partidas foi ligeiramente maior, devemos nos atentar que estão sendo utilizados 10 jogos como critério de análise, portanto, a quantidade é factível e esperada pela análise de conjunto com espaço amostral de 3 partidas."
   ]
  },
  {
   "cell_type": "code",
   "execution_count": 36,
   "metadata": {},
   "outputs": [
    {
     "data": {
      "image/png": "[encoded data removed]",
      "text/plain": [
       "<Figure size 1080x360 with 2 Axes>"
      ]
     },
     "metadata": {},
     "output_type": "display_data"
    }
   ],
   "source": [
    "# Gráfico da média acumulada\n",
    "fig, ax = plt.subplots(1, 2, figsize=(15, 5))\n",
    "ax[0].set_title('A winner cumulative mean')\n",
    "sns.lineplot(data=tennis_va10_df_dict['A']['matches'].expanding().mean().iloc[:, 0], ax=ax[0]);\n",
    "\n",
    "ax[1].set_title('B winner cumulative mean')\n",
    "sns.lineplot(data=tennis_va10_df_dict['B']['matches'].expanding().mean().iloc[:, 0], ax=ax[1], color='#9C7ABA');"
   ]
  },
  {
   "cell_type": "markdown",
   "metadata": {},
   "source": [
    "Vemos que a média acumulada permaneceu a mesma, uma vez que a média e desvio padrão não sofreram nenhuma alteração notável."
   ]
  },
  {
   "cell_type": "code",
   "execution_count": 56,
   "metadata": {},
   "outputs": [
    {
     "data": {
      "image/png": "[encoded data removed]",
      "text/plain": [
       "<Figure size 1080x360 with 2 Axes>"
      ]
     },
     "metadata": {},
     "output_type": "display_data"
    },
    {
     "data": {
      "image/png": "[encoded data removed]",
      "text/plain": [
       "<Figure size 1080x360 with 2 Axes>"
      ]
     },
     "metadata": {},
     "output_type": "display_data"
    }
   ],
   "source": [
    "fig, ax = plt.subplots(1, 2, figsize=(15, 5))\n",
    "sns.boxplot(x=tennis_va10_df_dict['A']['scored'][0], ax=ax[0]);\n",
    "ax[0].set_xlabel('A scored')\n",
    "sns.boxplot(x=tennis_va10_df_dict['B']['scored'][0], ax=ax[1]);\n",
    "ax[1].set_xlabel('B scored')\n",
    "\n",
    "fig, ax = plt.subplots(1, 2, figsize=(15, 5))\n",
    "sns.boxplot(x=tennis_va10_df_dict['A']['games'][0], ax=ax[0]);\n",
    "ax[0].set_xlabel('games A-wins')\n",
    "sns.boxplot(x=tennis_va10_df_dict['B']['games'][0], ax=ax[1]);\n",
    "ax[1].set_xlabel('games B-wins');"
   ]
  },
  {
   "cell_type": "markdown",
   "metadata": {},
   "source": [
    "Do boxplot é interessante notarmos que devido a uma quantidade maior de partidas o número de outliers diminuiu, isto é, obtemos resultados muito mais consistentes ao considerar um espaço amostral de tamanho 10."
   ]
  },
  {
   "cell_type": "code",
   "execution_count": 38,
   "metadata": {},
   "outputs": [
    {
     "data": {
      "text/html": [
       "<div>\n",
       "<style scoped>\n",
       "    .dataframe tbody tr th:only-of-type {\n",
       "        vertical-align: middle;\n",
       "    }\n",
       "\n",
       "    .dataframe tbody tr th {\n",
       "        vertical-align: top;\n",
       "    }\n",
       "\n",
       "    .dataframe thead th {\n",
       "        text-align: right;\n",
       "    }\n",
       "</style>\n",
       "<table border=\"1\" class=\"dataframe\">\n",
       "  <thead>\n",
       "    <tr style=\"text-align: right;\">\n",
       "      <th></th>\n",
       "      <th>scored</th>\n",
       "      <th>games</th>\n",
       "      <th>sets</th>\n",
       "      <th>matches</th>\n",
       "    </tr>\n",
       "  </thead>\n",
       "  <tbody>\n",
       "    <tr>\n",
       "      <th>A</th>\n",
       "      <td>0.750605</td>\n",
       "      <td>0.951233</td>\n",
       "      <td>1.0</td>\n",
       "      <td>1.0</td>\n",
       "    </tr>\n",
       "    <tr>\n",
       "      <th>B</th>\n",
       "      <td>0.249395</td>\n",
       "      <td>0.048767</td>\n",
       "      <td>0.0</td>\n",
       "      <td>0.0</td>\n",
       "    </tr>\n",
       "  </tbody>\n",
       "</table>\n",
       "</div>"
      ],
      "text/plain": [
       "     scored     games  sets  matches\n",
       "A  0.750605  0.951233   1.0      1.0\n",
       "B  0.249395  0.048767   0.0      0.0"
      ]
     },
     "execution_count": 38,
     "metadata": {},
     "output_type": "execute_result"
    }
   ],
   "source": [
    "def percentage(data_a: pd.DataFrame, data_b: pd.DataFrame):\n",
    "    data_a = data_a.sum()\n",
    "    data_b = data_b.sum()\n",
    "    return (data_a) / (data_a + data_b)\n",
    "\n",
    "percentages = {}\n",
    "\n",
    "percentages['scored'] = {\n",
    "    'A': percentage(tennis_va10_df_dict['A']['scored'][0], tennis_va10_df_dict['B']['scored'][0]),\n",
    "    'B': percentage(tennis_va10_df_dict['B']['scored'][0], tennis_va10_df_dict['A']['scored'][0])\n",
    "}\n",
    "percentages['games'] = {\n",
    "    'A': percentage(tennis_va10_df_dict['A']['games'][0], tennis_va10_df_dict['B']['games'][0]),\n",
    "    'B': percentage(tennis_va10_df_dict['B']['games'][0], tennis_va10_df_dict['A']['games'][0])\n",
    "}\n",
    "percentages['sets'] = {\n",
    "    'A': percentage(tennis_va10_df_dict['A']['sets'][0], tennis_va10_df_dict['B']['sets'][0]),\n",
    "    'B': percentage(tennis_va10_df_dict['B']['sets'][0], tennis_va10_df_dict['A']['sets'][0])\n",
    "}\n",
    "percentages['matches'] = {\n",
    "    'A': percentage(tennis_va10_df_dict['A']['matches'][0], tennis_va10_df_dict['B']['matches'][0]),\n",
    "    'B': percentage(tennis_va10_df_dict['B']['matches'][0], tennis_va10_df_dict['A']['matches'][0])\n",
    "}\n",
    "\n",
    "percentages_df = pd.DataFrame(percentages)\n",
    "percentages_df"
   ]
  },
  {
   "cell_type": "markdown",
   "metadata": {},
   "source": [
    "As porcentagens não tiveram alterações notáveis."
   ]
  },
  {
   "cell_type": "markdown",
   "metadata": {},
   "source": [
    "## Partida 2"
   ]
  },
  {
   "cell_type": "markdown",
   "metadata": {},
   "source": [
    "A segunda simulação leva em jogadores com níveis técnicos semelhantes. Isto é, utiliza-se um valor de p próximo de q. A segunda partida consiste na escolha de p dentro do seguinte intervalo, 0,45 <= p <= 0,55, portanto, escolheu-se um valor intermediário de p = 0.50."
   ]
  },
  {
   "cell_type": "code",
   "execution_count": 39,
   "metadata": {},
   "outputs": [
    {
     "name": "stderr",
     "output_type": "stream",
     "text": [
      "100%|██████████| 10000/10000 [00:05<00:00, 1964.76it/s]\n"
     ]
    }
   ],
   "source": [
    "n_sample = 10000\n",
    "probability = 0.50\n",
    "\n",
    "tennis_df = TenisSimulation.generate_dataset(probability, n_sample)\n",
    "tennis_df.to_parquet(f'datasets/{n_sample}_probability_{probability}.parquet.gzip')"
   ]
  },
  {
   "cell_type": "code",
   "execution_count": 40,
   "metadata": {},
   "outputs": [
    {
     "data": {
      "image/png": "[encoded data removed]",
      "text/plain": [
       "<Figure size 576x432 with 1 Axes>"
      ]
     },
     "metadata": {},
     "output_type": "display_data"
    }
   ],
   "source": [
    "sns.set_theme()\n",
    "fig, ax = plt.subplots(1, figsize=(8, 6))\n",
    "sns.histplot(data=tennis_df.loc[:, ['A scored', 'B scored']], ax=ax);"
   ]
  },
  {
   "cell_type": "markdown",
   "metadata": {},
   "source": [
    "Vemos que a distribuição de probabilidade da quantidade de pontuação marcada foi extremamente semelhante, mostrando que o um valor de 0.5 para p nos fornece jogadores e, portanto, resultados próximos. É interessante observamos uma semelhança com a distribuição normal, como destacado na partida 1."
   ]
  },
  {
   "cell_type": "code",
   "execution_count": 41,
   "metadata": {},
   "outputs": [],
   "source": [
    "tennis_va3_dict = { \n",
    "    'A': { 'matches' : [], 'scored' : [], 'games' : [], 'sets' : []},\n",
    "    'B': { 'matches' : [], 'scored' : [], 'games' : [], 'sets' : []},\n",
    "}\n",
    "\n",
    "for i in range(0, n_sample//3):\n",
    "    tennis_va3_dict['A']['matches'].append(sum(tennis_df.iloc[i*3:i*3+3, :]['Winner'] == 'A'))\n",
    "    tennis_va3_dict['B']['matches'].append(sum(tennis_df.iloc[i*3:i*3+3, :]['Winner'] == 'B'))\n",
    "\n",
    "    tennis_va3_dict['A']['scored'].append(sum(tennis_df.loc[i*3:i*3+2, 'A scored']))\n",
    "    tennis_va3_dict['B']['scored'].append(sum(tennis_df.loc[i*3:i*3+2, 'B scored']))\n",
    "\n",
    "    tennis_va3_dict['A']['games'].append(sum(tennis_df.loc[i*3:i*3+2, 'games A-Wins']))\n",
    "    tennis_va3_dict['B']['games'].append(sum(tennis_df.loc[i*3:i*3+2, 'games B-Wins']))\n",
    "\n",
    "    tennis_va3_dict['A']['sets'].append(sum(tennis_df.loc[i*3:i*3+2, 'sets A-Wins']))\n",
    "    tennis_va3_dict['B']['sets'].append(sum(tennis_df.loc[i*3:i*3+2, 'sets B-Wins']))"
   ]
  },
  {
   "cell_type": "code",
   "execution_count": 42,
   "metadata": {},
   "outputs": [],
   "source": [
    "tennis_va3_df_dict = {\n",
    "    'A': {\n",
    "        'matches': pd.DataFrame(tennis_va3_dict['A']['matches']),\n",
    "        'scored': pd.DataFrame(tennis_va3_dict['A']['scored']),\n",
    "        'games': pd.DataFrame(tennis_va3_dict['A']['games']),\n",
    "        'sets': pd.DataFrame(tennis_va3_dict['A']['sets'])\n",
    "    },\n",
    "    'B': {\n",
    "        'matches': pd.DataFrame(tennis_va3_dict['B']['matches']),\n",
    "        'scored': pd.DataFrame(tennis_va3_dict['B']['scored']),\n",
    "        'games': pd.DataFrame(tennis_va3_dict['B']['games']),\n",
    "        'sets': pd.DataFrame(tennis_va3_dict['B']['sets'])\n",
    "    }}"
   ]
  },
  {
   "cell_type": "code",
   "execution_count": 43,
   "metadata": {},
   "outputs": [
    {
     "data": {
      "text/html": [
       "<div>\n",
       "<style scoped>\n",
       "    .dataframe tbody tr th:only-of-type {\n",
       "        vertical-align: middle;\n",
       "    }\n",
       "\n",
       "    .dataframe tbody tr th {\n",
       "        vertical-align: top;\n",
       "    }\n",
       "\n",
       "    .dataframe thead th {\n",
       "        text-align: right;\n",
       "    }\n",
       "</style>\n",
       "<table border=\"1\" class=\"dataframe\">\n",
       "  <thead>\n",
       "    <tr style=\"text-align: right;\">\n",
       "      <th></th>\n",
       "      <th>matches_mean</th>\n",
       "      <th>scored_mean</th>\n",
       "      <th>games_mean</th>\n",
       "      <th>sets_mean</th>\n",
       "    </tr>\n",
       "  </thead>\n",
       "  <tbody>\n",
       "    <tr>\n",
       "      <th>A</th>\n",
       "      <td>1.49985</td>\n",
       "      <td>244.366037</td>\n",
       "      <td>36.188419</td>\n",
       "      <td>3.750675</td>\n",
       "    </tr>\n",
       "    <tr>\n",
       "      <th>B</th>\n",
       "      <td>1.50015</td>\n",
       "      <td>244.199220</td>\n",
       "      <td>36.168917</td>\n",
       "      <td>3.756076</td>\n",
       "    </tr>\n",
       "  </tbody>\n",
       "</table>\n",
       "</div>"
      ],
      "text/plain": [
       "   matches_mean  scored_mean  games_mean  sets_mean\n",
       "A       1.49985   244.366037   36.188419   3.750675\n",
       "B       1.50015   244.199220   36.168917   3.756076"
      ]
     },
     "metadata": {},
     "output_type": "display_data"
    },
    {
     "data": {
      "text/html": [
       "<div>\n",
       "<style scoped>\n",
       "    .dataframe tbody tr th:only-of-type {\n",
       "        vertical-align: middle;\n",
       "    }\n",
       "\n",
       "    .dataframe tbody tr th {\n",
       "        vertical-align: top;\n",
       "    }\n",
       "\n",
       "    .dataframe thead th {\n",
       "        text-align: right;\n",
       "    }\n",
       "</style>\n",
       "<table border=\"1\" class=\"dataframe\">\n",
       "  <thead>\n",
       "    <tr style=\"text-align: right;\">\n",
       "      <th></th>\n",
       "      <th>matches_std</th>\n",
       "      <th>scored_std</th>\n",
       "      <th>games_std</th>\n",
       "      <th>sets_std</th>\n",
       "    </tr>\n",
       "  </thead>\n",
       "  <tbody>\n",
       "    <tr>\n",
       "      <th>A</th>\n",
       "      <td>0.851615</td>\n",
       "      <td>37.283563</td>\n",
       "      <td>6.551824</td>\n",
       "      <td>1.412283</td>\n",
       "    </tr>\n",
       "    <tr>\n",
       "      <th>B</th>\n",
       "      <td>0.851615</td>\n",
       "      <td>36.764410</td>\n",
       "      <td>6.444433</td>\n",
       "      <td>1.405989</td>\n",
       "    </tr>\n",
       "  </tbody>\n",
       "</table>\n",
       "</div>"
      ],
      "text/plain": [
       "   matches_std  scored_std  games_std  sets_std\n",
       "A     0.851615   37.283563   6.551824  1.412283\n",
       "B     0.851615   36.764410   6.444433  1.405989"
      ]
     },
     "metadata": {},
     "output_type": "display_data"
    }
   ],
   "source": [
    "# Média\n",
    "tennis_va3_mean = {\n",
    "    'A': [np.mean(i) for i in tennis_va3_dict['A'].values()],\n",
    "    'B': [np.mean(i) for i in tennis_va3_dict['B'].values()]\n",
    "}\n",
    "\n",
    "tennis_va3_mean = pd.DataFrame(tennis_va3_mean).transpose()\n",
    "tennis_va3_mean.columns = ['matches_mean', 'scored_mean', 'games_mean', 'sets_mean']\n",
    "display(tennis_va3_mean)\n",
    "\n",
    "# Desvio padrão\n",
    "tennis_va3_std = {\n",
    "    'A': [np.std(i) for i in tennis_va3_dict['A'].values()],\n",
    "    'B': [np.std(i) for i in tennis_va3_dict['B'].values()]\n",
    "}\n",
    "\n",
    "tennis_va3_std = pd.DataFrame(tennis_va3_std).transpose()\n",
    "tennis_va3_std.columns = ['matches_std', 'scored_std', 'games_std', 'sets_std']\n",
    "display(tennis_va3_std)"
   ]
  },
  {
   "cell_type": "markdown",
   "metadata": {},
   "source": [
    "Pela curva de distribuição normal, podiamos esperar os resultados acima, uma vez que ambas curvas foram extremamente semelhantes, as médias e desvios padrões também deveriam ser."
   ]
  },
  {
   "cell_type": "code",
   "execution_count": 44,
   "metadata": {},
   "outputs": [
    {
     "data": {
      "image/png": "[encoded data removed]",
      "text/plain": [
       "<Figure size 1080x360 with 2 Axes>"
      ]
     },
     "metadata": {},
     "output_type": "display_data"
    }
   ],
   "source": [
    "# Gráfico da média acumulada\n",
    "fig, ax = plt.subplots(1, 2, figsize=(15, 5))\n",
    "ax[0].set_title('A winner cumulative mean')\n",
    "sns.lineplot(data=tennis_va3_df_dict['A']['matches'].expanding().mean().iloc[:, 0], ax=ax[0]);\n",
    "\n",
    "ax[1].set_title('B winner cumulative mean')\n",
    "sns.lineplot(data=tennis_va3_df_dict['B']['matches'].expanding().mean().iloc[:, 0], ax=ax[1], color='#9C7ABA');"
   ]
  },
  {
   "cell_type": "markdown",
   "metadata": {},
   "source": [
    "Com valores medianos de p, obtemos curvas interessantes para a média acumulada. Nota-se que ao adicionarmos elementos no cálculo a média converge muito melhor, neste caso, tendendo para 1.5."
   ]
  },
  {
   "cell_type": "code",
   "execution_count": 45,
   "metadata": {},
   "outputs": [
    {
     "data": {
      "image/png": "[encoded data removed]",
      "text/plain": [
       "<Figure size 1080x360 with 2 Axes>"
      ]
     },
     "metadata": {},
     "output_type": "display_data"
    },
    {
     "data": {
      "image/png": "[encoded data removed]",
      "text/plain": [
       "<Figure size 1080x360 with 2 Axes>"
      ]
     },
     "metadata": {},
     "output_type": "display_data"
    }
   ],
   "source": [
    "fig, ax = plt.subplots(1, 2, figsize=(15, 5))\n",
    "sns.boxplot(x=tennis_va3_df_dict['A']['scored'][0], ax=ax[0]);\n",
    "ax[0].set_xlabel('A scored')\n",
    "sns.boxplot(x=tennis_va3_df_dict['B']['scored'][0], ax=ax[1]);\n",
    "ax[1].set_xlabel('B scored')\n",
    "\n",
    "fig, ax = plt.subplots(1, 2, figsize=(15, 5))\n",
    "sns.boxplot(x=tennis_va3_df_dict['A']['games'][0], ax=ax[0]);\n",
    "ax[0].set_xlabel('games A-wins')\n",
    "sns.boxplot(x=tennis_va3_df_dict['B']['games'][0], ax=ax[1]);\n",
    "ax[1].set_xlabel('games A-wins');"
   ]
  },
  {
   "cell_type": "markdown",
   "metadata": {},
   "source": [
    "Observa-se nos boxplots que os resultados foram muito simétricos, uma vez que os dados são fortemente influenciados pelas medidades de dispersão e tendência central e o valor de p impacta diretamente na difença de habilidade dos jogadores."
   ]
  },
  {
   "cell_type": "code",
   "execution_count": 46,
   "metadata": {},
   "outputs": [
    {
     "data": {
      "text/html": [
       "<div>\n",
       "<style scoped>\n",
       "    .dataframe tbody tr th:only-of-type {\n",
       "        vertical-align: middle;\n",
       "    }\n",
       "\n",
       "    .dataframe tbody tr th {\n",
       "        vertical-align: top;\n",
       "    }\n",
       "\n",
       "    .dataframe thead th {\n",
       "        text-align: right;\n",
       "    }\n",
       "</style>\n",
       "<table border=\"1\" class=\"dataframe\">\n",
       "  <thead>\n",
       "    <tr style=\"text-align: right;\">\n",
       "      <th></th>\n",
       "      <th>scored</th>\n",
       "      <th>games</th>\n",
       "      <th>sets</th>\n",
       "      <th>matches</th>\n",
       "    </tr>\n",
       "  </thead>\n",
       "  <tbody>\n",
       "    <tr>\n",
       "      <th>A</th>\n",
       "      <td>0.500171</td>\n",
       "      <td>0.500135</td>\n",
       "      <td>0.49964</td>\n",
       "      <td>0.49995</td>\n",
       "    </tr>\n",
       "    <tr>\n",
       "      <th>B</th>\n",
       "      <td>0.499829</td>\n",
       "      <td>0.499865</td>\n",
       "      <td>0.50036</td>\n",
       "      <td>0.50005</td>\n",
       "    </tr>\n",
       "  </tbody>\n",
       "</table>\n",
       "</div>"
      ],
      "text/plain": [
       "     scored     games     sets  matches\n",
       "A  0.500171  0.500135  0.49964  0.49995\n",
       "B  0.499829  0.499865  0.50036  0.50005"
      ]
     },
     "execution_count": 46,
     "metadata": {},
     "output_type": "execute_result"
    }
   ],
   "source": [
    "def percentage(data_a: pd.DataFrame, data_b: pd.DataFrame):\n",
    "    data_a = data_a.sum()\n",
    "    data_b = data_b.sum()\n",
    "    return (data_a) / (data_a + data_b)\n",
    "\n",
    "percentages = {}\n",
    "\n",
    "percentages['scored'] = {\n",
    "    'A': percentage(tennis_va3_df_dict['A']['scored'][0], tennis_va3_df_dict['B']['scored'][0]),\n",
    "    'B': percentage(tennis_va3_df_dict['B']['scored'][0], tennis_va3_df_dict['A']['scored'][0])\n",
    "}\n",
    "percentages['games'] = {\n",
    "    'A': percentage(tennis_va3_df_dict['A']['games'][0], tennis_va3_df_dict['B']['games'][0]),\n",
    "    'B': percentage(tennis_va3_df_dict['B']['games'][0], tennis_va3_df_dict['A']['games'][0])\n",
    "}\n",
    "percentages['sets'] = {\n",
    "    'A': percentage(tennis_va3_df_dict['A']['sets'][0], tennis_va3_df_dict['B']['sets'][0]),\n",
    "    'B': percentage(tennis_va3_df_dict['B']['sets'][0], tennis_va3_df_dict['A']['sets'][0])\n",
    "}\n",
    "percentages['matches'] = {\n",
    "    'A': percentage(tennis_va3_df_dict['A']['matches'][0], tennis_va3_df_dict['B']['matches'][0]),\n",
    "    'B': percentage(tennis_va3_df_dict['B']['matches'][0], tennis_va3_df_dict['A']['matches'][0])\n",
    "}\n",
    "\n",
    "percentages_df = pd.DataFrame(percentages)\n",
    "percentages_df"
   ]
  },
  {
   "cell_type": "markdown",
   "metadata": {},
   "source": [
    "As porcentagens foram extremamente próximas, onde todas tendem à 50% como deveria ser esperado."
   ]
  },
  {
   "cell_type": "markdown",
   "metadata": {},
   "source": [
    "### VA com espaço amostral de 10 partidas"
   ]
  },
  {
   "cell_type": "markdown",
   "metadata": {},
   "source": [
    "Assim como na análise da partida 1, devemos repetir os passos na análise da variável aleatória considerando um espaço amostral de 10 partidas."
   ]
  },
  {
   "cell_type": "code",
   "execution_count": 47,
   "metadata": {},
   "outputs": [],
   "source": [
    "tennis_va10_dict = { \n",
    "    'A': { 'matches' : [], 'scored' : [], 'games' : [], 'sets' : []},\n",
    "    'B': { 'matches' : [], 'scored' : [], 'games' : [], 'sets' : []},\n",
    "}\n",
    "\n",
    "samples = np.random.randint(0, n_sample//10, (n_sample//10, 10))\n",
    "\n",
    "for i in range(0, n_sample//10):\n",
    "    tennis_va10_dict['A']['matches'].append(sum(tennis_df.iloc[samples[i], :]['Winner'] == 'A'))\n",
    "    tennis_va10_dict['B']['matches'].append(sum(tennis_df.iloc[samples[i], :]['Winner'] == 'B'))\n",
    "\n",
    "    tennis_va10_dict['A']['scored'].append(sum(tennis_df.loc[samples[i], 'A scored']))\n",
    "    tennis_va10_dict['B']['scored'].append(sum(tennis_df.loc[samples[i], 'B scored']))\n",
    "\n",
    "    tennis_va10_dict['A']['games'].append(sum(tennis_df.loc[samples[i], 'games A-Wins']))\n",
    "    tennis_va10_dict['B']['games'].append(sum(tennis_df.loc[samples[i], 'games B-Wins']))\n",
    "\n",
    "    tennis_va10_dict['A']['sets'].append(sum(tennis_df.loc[samples[i], 'sets A-Wins']))\n",
    "    tennis_va10_dict['B']['sets'].append(sum(tennis_df.loc[samples[i], 'sets B-Wins']))"
   ]
  },
  {
   "cell_type": "code",
   "execution_count": 48,
   "metadata": {},
   "outputs": [],
   "source": [
    "tennis_va10_df_dict = {\n",
    "    'A': {\n",
    "        'matches': pd.DataFrame(tennis_va10_dict['A']['matches']),\n",
    "        'scored': pd.DataFrame(tennis_va10_dict['A']['scored']),\n",
    "        'games': pd.DataFrame(tennis_va10_dict['A']['games']),\n",
    "        'sets': pd.DataFrame(tennis_va10_dict['A']['sets'])\n",
    "    },\n",
    "    'B': {\n",
    "        'matches': pd.DataFrame(tennis_va10_dict['B']['matches']),\n",
    "        'scored': pd.DataFrame(tennis_va10_dict['B']['scored']),\n",
    "        'games': pd.DataFrame(tennis_va10_dict['B']['games']),\n",
    "        'sets': pd.DataFrame(tennis_va10_dict['B']['sets'])\n",
    "    }}"
   ]
  },
  {
   "cell_type": "code",
   "execution_count": 49,
   "metadata": {},
   "outputs": [
    {
     "data": {
      "text/html": [
       "<div>\n",
       "<style scoped>\n",
       "    .dataframe tbody tr th:only-of-type {\n",
       "        vertical-align: middle;\n",
       "    }\n",
       "\n",
       "    .dataframe tbody tr th {\n",
       "        vertical-align: top;\n",
       "    }\n",
       "\n",
       "    .dataframe thead th {\n",
       "        text-align: right;\n",
       "    }\n",
       "</style>\n",
       "<table border=\"1\" class=\"dataframe\">\n",
       "  <thead>\n",
       "    <tr style=\"text-align: right;\">\n",
       "      <th></th>\n",
       "      <th>matches_mean</th>\n",
       "      <th>scored_mean</th>\n",
       "      <th>games_mean</th>\n",
       "      <th>sets_mean</th>\n",
       "    </tr>\n",
       "  </thead>\n",
       "  <tbody>\n",
       "    <tr>\n",
       "      <th>A</th>\n",
       "      <td>4.923</td>\n",
       "      <td>817.391</td>\n",
       "      <td>120.655</td>\n",
       "      <td>12.423</td>\n",
       "    </tr>\n",
       "    <tr>\n",
       "      <th>B</th>\n",
       "      <td>5.077</td>\n",
       "      <td>814.474</td>\n",
       "      <td>120.184</td>\n",
       "      <td>12.558</td>\n",
       "    </tr>\n",
       "  </tbody>\n",
       "</table>\n",
       "</div>"
      ],
      "text/plain": [
       "   matches_mean  scored_mean  games_mean  sets_mean\n",
       "A         4.923      817.391     120.655     12.423\n",
       "B         5.077      814.474     120.184     12.558"
      ]
     },
     "metadata": {},
     "output_type": "display_data"
    },
    {
     "data": {
      "text/html": [
       "<div>\n",
       "<style scoped>\n",
       "    .dataframe tbody tr th:only-of-type {\n",
       "        vertical-align: middle;\n",
       "    }\n",
       "\n",
       "    .dataframe tbody tr th {\n",
       "        vertical-align: top;\n",
       "    }\n",
       "\n",
       "    .dataframe thead th {\n",
       "        text-align: right;\n",
       "    }\n",
       "</style>\n",
       "<table border=\"1\" class=\"dataframe\">\n",
       "  <thead>\n",
       "    <tr style=\"text-align: right;\">\n",
       "      <th></th>\n",
       "      <th>matches_std</th>\n",
       "      <th>scored_std</th>\n",
       "      <th>games_std</th>\n",
       "      <th>sets_std</th>\n",
       "    </tr>\n",
       "  </thead>\n",
       "  <tbody>\n",
       "    <tr>\n",
       "      <th>A</th>\n",
       "      <td>1.610922</td>\n",
       "      <td>67.935882</td>\n",
       "      <td>11.961019</td>\n",
       "      <td>2.698531</td>\n",
       "    </tr>\n",
       "    <tr>\n",
       "      <th>B</th>\n",
       "      <td>1.610922</td>\n",
       "      <td>67.064337</td>\n",
       "      <td>11.680760</td>\n",
       "      <td>2.650026</td>\n",
       "    </tr>\n",
       "  </tbody>\n",
       "</table>\n",
       "</div>"
      ],
      "text/plain": [
       "   matches_std  scored_std  games_std  sets_std\n",
       "A     1.610922   67.935882  11.961019  2.698531\n",
       "B     1.610922   67.064337  11.680760  2.650026"
      ]
     },
     "metadata": {},
     "output_type": "display_data"
    }
   ],
   "source": [
    "# Média\n",
    "tennis_va10_mean = {\n",
    "    'A': [np.mean(i) for i in tennis_va10_dict['A'].values()],\n",
    "    'B': [np.mean(i) for i in tennis_va10_dict['B'].values()]\n",
    "}\n",
    "\n",
    "tennis_va10_mean = pd.DataFrame(tennis_va10_mean).transpose()\n",
    "tennis_va10_mean.columns = ['matches_mean', 'scored_mean', 'games_mean', 'sets_mean']\n",
    "display(tennis_va10_mean)\n",
    "\n",
    "# Desvio padrão\n",
    "tennis_va10_std = {\n",
    "    'A': [np.std(i) for i in tennis_va10_dict['A'].values()],\n",
    "    'B': [np.std(i) for i in tennis_va10_dict['B'].values()]\n",
    "}\n",
    "\n",
    "tennis_va10_std = pd.DataFrame(tennis_va10_std).transpose()\n",
    "tennis_va10_std.columns = ['matches_std', 'scored_std', 'games_std', 'sets_std']\n",
    "display(tennis_va10_std)"
   ]
  },
  {
   "cell_type": "markdown",
   "metadata": {},
   "source": [
    "As médias e desvios padrões, novamente mostram resultados sólidas e também a igualdade do nível técnico dos jogadores."
   ]
  },
  {
   "cell_type": "code",
   "execution_count": 50,
   "metadata": {},
   "outputs": [
    {
     "data": {
      "image/png": "[encoded data removed]",
      "text/plain": [
       "<Figure size 1080x360 with 2 Axes>"
      ]
     },
     "metadata": {},
     "output_type": "display_data"
    }
   ],
   "source": [
    "# Gráfico da média acumulada\n",
    "fig, ax = plt.subplots(1, 2, figsize=(15, 5))\n",
    "ax[0].set_title('A winner cumulative mean')\n",
    "sns.lineplot(data=tennis_va10_df_dict['A']['matches'].expanding().mean().iloc[:, 0], ax=ax[0]);\n",
    "\n",
    "ax[1].set_title('B winner cumulative mean')\n",
    "sns.lineplot(data=tennis_va10_df_dict['B']['matches'].expanding().mean().iloc[:, 0], ax=ax[1], color='#9C7ABA');"
   ]
  },
  {
   "cell_type": "markdown",
   "metadata": {},
   "source": [
    "Novamente, vemos que média acumulada converge com para mais dados, tendendo à 5, uma vez que pelo valor de p em 10 partidas a tendência é de que cada jogador vença 50%."
   ]
  },
  {
   "cell_type": "code",
   "execution_count": 51,
   "metadata": {},
   "outputs": [
    {
     "data": {
      "image/png": "[encoded data removed]",
      "text/plain": [
       "<Figure size 1080x360 with 2 Axes>"
      ]
     },
     "metadata": {},
     "output_type": "display_data"
    },
    {
     "data": {
      "image/png": "[encoded data removed]",
      "text/plain": [
       "<Figure size 1080x360 with 2 Axes>"
      ]
     },
     "metadata": {},
     "output_type": "display_data"
    }
   ],
   "source": [
    "fig, ax = plt.subplots(1, 2, figsize=(15, 5))\n",
    "sns.boxplot(x=tennis_va10_df_dict['A']['scored'][0], ax=ax[0]);\n",
    "ax[0].set_xlabel('A scored')\n",
    "sns.boxplot(x=tennis_va10_df_dict['B']['scored'][0], ax=ax[1]);\n",
    "ax[1].set_xlabel('B scored')\n",
    "\n",
    "fig, ax = plt.subplots(1, 2, figsize=(15, 5))\n",
    "sns.boxplot(x=tennis_va10_df_dict['A']['games'][0], ax=ax[0]);\n",
    "ax[0].set_xlabel('games A-wins')\n",
    "sns.boxplot(x=tennis_va10_df_dict['B']['games'][0], ax=ax[1]);\n",
    "ax[1].set_xlabel('games A-wins');"
   ]
  },
  {
   "cell_type": "code",
   "execution_count": 52,
   "metadata": {},
   "outputs": [
    {
     "data": {
      "text/html": [
       "<div>\n",
       "<style scoped>\n",
       "    .dataframe tbody tr th:only-of-type {\n",
       "        vertical-align: middle;\n",
       "    }\n",
       "\n",
       "    .dataframe tbody tr th {\n",
       "        vertical-align: top;\n",
       "    }\n",
       "\n",
       "    .dataframe thead th {\n",
       "        text-align: right;\n",
       "    }\n",
       "</style>\n",
       "<table border=\"1\" class=\"dataframe\">\n",
       "  <thead>\n",
       "    <tr style=\"text-align: right;\">\n",
       "      <th></th>\n",
       "      <th>scored</th>\n",
       "      <th>games</th>\n",
       "      <th>sets</th>\n",
       "      <th>matches</th>\n",
       "    </tr>\n",
       "  </thead>\n",
       "  <tbody>\n",
       "    <tr>\n",
       "      <th>A</th>\n",
       "      <td>0.500894</td>\n",
       "      <td>0.500978</td>\n",
       "      <td>0.497298</td>\n",
       "      <td>0.4923</td>\n",
       "    </tr>\n",
       "    <tr>\n",
       "      <th>B</th>\n",
       "      <td>0.499106</td>\n",
       "      <td>0.499022</td>\n",
       "      <td>0.502702</td>\n",
       "      <td>0.5077</td>\n",
       "    </tr>\n",
       "  </tbody>\n",
       "</table>\n",
       "</div>"
      ],
      "text/plain": [
       "     scored     games      sets  matches\n",
       "A  0.500894  0.500978  0.497298   0.4923\n",
       "B  0.499106  0.499022  0.502702   0.5077"
      ]
     },
     "execution_count": 52,
     "metadata": {},
     "output_type": "execute_result"
    }
   ],
   "source": [
    "def percentage(data_a: pd.DataFrame, data_b: pd.DataFrame):\n",
    "    data_a = data_a.sum()\n",
    "    data_b = data_b.sum()\n",
    "    return (data_a) / (data_a + data_b)\n",
    "\n",
    "percentages = {}\n",
    "\n",
    "percentages['scored'] = {\n",
    "    'A': percentage(tennis_va10_df_dict['A']['scored'][0], tennis_va10_df_dict['B']['scored'][0]),\n",
    "    'B': percentage(tennis_va10_df_dict['B']['scored'][0], tennis_va10_df_dict['A']['scored'][0])\n",
    "}\n",
    "percentages['games'] = {\n",
    "    'A': percentage(tennis_va10_df_dict['A']['games'][0], tennis_va10_df_dict['B']['games'][0]),\n",
    "    'B': percentage(tennis_va10_df_dict['B']['games'][0], tennis_va10_df_dict['A']['games'][0])\n",
    "}\n",
    "percentages['sets'] = {\n",
    "    'A': percentage(tennis_va10_df_dict['A']['sets'][0], tennis_va10_df_dict['B']['sets'][0]),\n",
    "    'B': percentage(tennis_va10_df_dict['B']['sets'][0], tennis_va10_df_dict['A']['sets'][0])\n",
    "}\n",
    "percentages['matches'] = {\n",
    "    'A': percentage(tennis_va10_df_dict['A']['matches'][0], tennis_va10_df_dict['B']['matches'][0]),\n",
    "    'B': percentage(tennis_va10_df_dict['B']['matches'][0], tennis_va10_df_dict['A']['matches'][0])\n",
    "}\n",
    "\n",
    "percentages_df = pd.DataFrame(percentages)\n",
    "percentages_df"
   ]
  },
  {
   "cell_type": "markdown",
   "metadata": {},
   "source": [
    "Tanto o boxplot quanto as porcenagens não tiveram alterações significativas em relação ao espaço amostral de 3 partidas."
   ]
  },
  {
   "cell_type": "markdown",
   "metadata": {},
   "source": [
    "## Vários P"
   ]
  },
  {
   "cell_type": "markdown",
   "metadata": {},
   "source": [
    "Uma análise interessante a ser feita é a influência da probabilidade p na chance de um jogador ganhar os pontos, games, sets e matches."
   ]
  },
  {
   "cell_type": "code",
   "execution_count": 53,
   "metadata": {},
   "outputs": [],
   "source": [
    "%%capture\n",
    "def percentage(df: pd.DataFrame, column_a: str, column_b: str):\n",
    "    data_a = df.loc[:, column_a].sum()\n",
    "    data_b = df.loc[:, column_b].sum()\n",
    "    return (data_a) / (data_a + data_b)\n",
    "\n",
    "p_values = pd.DataFrame([])\n",
    "\n",
    "for i in range(0, 1001):\n",
    "    n_sample = 100\n",
    "    p = i * 0.0009 + 0.1\n",
    "    tennis_df = TenisSimulation.generate_dataset(p, n_sample)\n",
    "\n",
    "    percentages = {}\n",
    "    percentages['p'] = p\n",
    "    percentages['games'] = {'A': percentage(tennis_df, 'games A-Wins', 'games B-Wins')}\n",
    "    percentages['sets'] = {'A': percentage(tennis_df, 'sets A-Wins', 'sets B-Wins')}\n",
    "    percentages['matches'] = {'A': tennis_df[tennis_df['Winner'] == 'A'].shape[0] / tennis_df.shape[0]}\n",
    "    percentages['scores'] = {'A': percentage(tennis_df, 'A scored', 'B scored')}\n",
    "\n",
    "    percentages_df = pd.DataFrame(percentages)\n",
    "    p_values = pd.concat([p_values, percentages_df])"
   ]
  },
  {
   "cell_type": "code",
   "execution_count": 54,
   "metadata": {},
   "outputs": [
    {
     "data": {
      "image/png": "[encoded data removed]",
      "text/plain": [
       "<Figure size 864x576 with 1 Axes>"
      ]
     },
     "metadata": {},
     "output_type": "display_data"
    }
   ],
   "source": [
    "fig, ax = plt.subplots(1, 1, figsize=(12, 8))\n",
    "ax.set_title('Probability of winning based on p')\n",
    "sns.lineplot(data=p_values.copy().reset_index(), x='p', y='scores', ax=ax, label='scores');\n",
    "sns.lineplot(data=p_values.copy().reset_index(), x='p', y='matches', ax=ax, label='matches');\n",
    "sns.lineplot(data=p_values.copy().reset_index(), x='p', y='sets', ax=ax, label='sets');\n",
    "sns.lineplot(data=p_values.copy().reset_index(), x='p', y='games', ax=ax, label='games');"
   ]
  },
  {
   "cell_type": "markdown",
   "metadata": {},
   "source": [
    "Observa-se que o valor p influência linearmente a quantidade de pontos marcados, como é de se esperar devido ao valor representar a chance do jogador A marcar o ponto em cada estado da cadeia.\n",
    "\n",
    "Analisando o gráfico, percebemos a probabilidade de ganhar um ponto vai sendo propagada para os games, sets e posteriormente, os matches. Portanto, quanto maior a influência que um estado sofre pela variável p, isto é, a quantidade de p's necessários para calcular a probabilidade analiticamente, faz com que a curva tenha maior inclinação e mude de estado muito bruscamente de acordo com p.\n",
    "\n",
    "Destaca-se que apesar da tendência das curvas serem claras, existem variações(aparência de gráfico rasbiscado) devido aos pontos terem sido obtidos através de simulações e não por métodos analíticos."
   ]
  }
 ],
 "metadata": {
  "interpreter": {
   "hash": "f05924806ede7ae6076e3fa726bc7bd8543ecf44d8399f9bc44e285f9a56ada2"
  },
  "kernelspec": {
   "display_name": "Python 3.8.10 ('markov')",
   "language": "python",
   "name": "python3"
  },
  "language_info": {
   "codemirror_mode": {
    "name": "ipython",
    "version": 3
   },
   "file_extension": ".py",
   "mimetype": "text/x-python",
   "name": "python",
   "nbconvert_exporter": "python",
   "pygments_lexer": "ipython3",
   "version": "3.8.10"
  },
  "orig_nbformat": 4
 },
 "nbformat": 4,
 "nbformat_minor": 2
}
